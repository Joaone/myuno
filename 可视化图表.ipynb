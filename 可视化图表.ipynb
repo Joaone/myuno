{
 "cells": [
  {
   "cell_type": "code",
   "execution_count": null,
   "metadata": {
    "collapsed": true
   },
   "outputs": [],
   "source": [
    "import pandas as pd\n",
    "import matplotlib.pyplot as plt\n",
    "\n",
    "\n",
    "# 将日期列转换为datetime类型\n",
    "result['Date'] = pd.to_datetime(result['Date'])\n",
    "\n",
    "# 定义一个函数来计算不同交易类型的数量\n",
    "def count_transactions(status):\n",
    "    return (status == 'CAPTURED').sum()\n",
    "\n",
    "# 按月份对数据进行分组并计算各个指标\n",
    "monthly_data = result.groupby(result['Date'].dt.month).apply(\n",
    "    lambda x: pd.Series({\n",
    "        'captured_transactions': count_transactions(x['Status']),\n",
    "        'refund_transactions': (x['Status'].isin(['REFUNDED', 'CHARGED_BACK'])).sum(),\n",
    "        'information_request_transactions': (x['Status'] == 'INFORMATION_REQUESTED').sum()\n",
    "    })\n",
    ")\n",
    "\n",
    "# 重命名月份列\n",
    "monthly_data.index = monthly_data.index.map(lambda x: pd.Timestamp(year=2024, month=int(x), day=1).strftime('%b'))\n",
    "\n",
    "# 创建柱状图\n",
    "monthly_data.plot(kind='bar', figsize=(10, 6))\n",
    "\n",
    "# 添加标签和标题\n",
    "plt.xlabel('Month')\n",
    "plt.ylabel('Number of Transactions')\n",
    "plt.title('Monthly Transactions')\n",
    "\n",
    "# 显示图形\n",
    "plt.show()\n"
   ]
  },
  {
   "cell_type": "code",
   "execution_count": 5,
   "metadata": {},
   "outputs": [
    {
     "ename": "ModuleNotFoundError",
     "evalue": "No module named 'streamlit'",
     "output_type": "error",
     "traceback": [
      "\u001b[1;31m---------------------------------------------------------------------------\u001b[0m",
      "\u001b[1;31mModuleNotFoundError\u001b[0m                       Traceback (most recent call last)",
      "\u001b[1;32m<ipython-input-5-3f7a2fc7a59b>\u001b[0m in \u001b[0;36m<module>\u001b[1;34m()\u001b[0m\n\u001b[1;32m----> 1\u001b[1;33m \u001b[1;32mimport\u001b[0m \u001b[0mstreamlit\u001b[0m \u001b[1;32mas\u001b[0m \u001b[0mst\u001b[0m\u001b[1;33m\u001b[0m\u001b[0m\n\u001b[0m\u001b[0;32m      2\u001b[0m \u001b[1;32mimport\u001b[0m \u001b[0mpandas\u001b[0m \u001b[1;32mas\u001b[0m \u001b[0mpd\u001b[0m\u001b[1;33m\u001b[0m\u001b[0m\n",
      "\u001b[1;31mModuleNotFoundError\u001b[0m: No module named 'streamlit'"
     ]
    }
   ],
   "source": [
    "import streamlit as st\n",
    "import pandas as pd"
   ]
  },
  {
   "cell_type": "code",
   "execution_count": null,
   "metadata": {
    "collapsed": true
   },
   "outputs": [],
   "source": []
  }
 ],
 "metadata": {
  "kernelspec": {
   "display_name": "Python 3",
   "language": "python",
   "name": "python3"
  },
  "language_info": {
   "codemirror_mode": {
    "name": "ipython",
    "version": 3
   },
   "file_extension": ".py",
   "mimetype": "text/x-python",
   "name": "python",
   "nbconvert_exporter": "python",
   "pygments_lexer": "ipython3",
   "version": "3.6.1"
  }
 },
 "nbformat": 4,
 "nbformat_minor": 2
}
